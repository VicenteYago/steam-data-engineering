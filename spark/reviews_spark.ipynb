{
 "cells": [
  {
   "cell_type": "code",
   "execution_count": 3,
   "id": "b7010a64",
   "metadata": {},
   "outputs": [
    {
     "data": {
      "text/plain": [
       "'/bin/python3'"
      ]
     },
     "execution_count": 3,
     "metadata": {},
     "output_type": "execute_result"
    }
   ],
   "source": [
    "\n",
    "import sys\n",
    "sys.executable"
   ]
  },
  {
   "cell_type": "code",
   "execution_count": 4,
   "id": "c3cdafdd",
   "metadata": {},
   "outputs": [],
   "source": [
    "import pyspark\n",
    "import os\n",
    "from pyspark.sql import SparkSession\n",
    "from pyspark import SparkContext\n",
    "from  pyspark.sql.functions import input_file_name\n",
    "from pyspark.sql import functions as F\n",
    "from pyspark.sql import Row\n",
    "from pyspark.sql.functions import row_number,lit\n",
    "from pyspark.sql.window import Window"
   ]
  },
  {
   "cell_type": "code",
   "execution_count": 22,
   "id": "2392b0dc",
   "metadata": {},
   "outputs": [],
   "source": [
    "def flatten_df(nested_df):\n",
    "    flat_cols = [c[0] for c in nested_df.dtypes if c[1][:6] != 'struct']\n",
    "    nested_cols = [c[0] for c in nested_df.dtypes if c[1][:6] == 'struct']\n",
    "\n",
    "    flat_df = nested_df.select(flat_cols +\n",
    "                               [F.col(nc+'.'+c).alias(nc+'_'+c)\n",
    "                                for nc in nested_cols\n",
    "                                for c in nested_df.select(nc+'.*').columns])\n",
    "    return flat_df"
   ]
  },
  {
   "cell_type": "code",
   "execution_count": 7,
   "id": "a20beb3c",
   "metadata": {},
   "outputs": [
    {
     "name": "stderr",
     "output_type": "stream",
     "text": [
      "22/09/23 18:07:38 WARN Utils: Your hostname, vyago-desktop resolves to a loopback address: 127.0.1.1; using 192.168.18.7 instead (on interface enp4s0)\n",
      "22/09/23 18:07:38 WARN Utils: Set SPARK_LOCAL_IP if you need to bind to another address\n",
      "WARNING: An illegal reflective access operation has occurred\n",
      "WARNING: Illegal reflective access by org.apache.spark.unsafe.Platform (file:/home/vyago/spark/spark-3.1.3-bin-hadoop3.2/jars/spark-unsafe_2.12-3.1.3.jar) to constructor java.nio.DirectByteBuffer(long,int)\n",
      "WARNING: Please consider reporting this to the maintainers of org.apache.spark.unsafe.Platform\n",
      "WARNING: Use --illegal-access=warn to enable warnings of further illegal reflective access operations\n",
      "WARNING: All illegal access operations will be denied in a future release\n",
      "22/09/23 18:07:38 WARN NativeCodeLoader: Unable to load native-hadoop library for your platform... using builtin-java classes where applicable\n",
      "Using Spark's default log4j profile: org/apache/spark/log4j-defaults.properties\n",
      "Setting default log level to \"WARN\".\n",
      "To adjust logging level use sc.setLogLevel(newLevel). For SparkR, use setLogLevel(newLevel).\n"
     ]
    }
   ],
   "source": [
    "spark = SparkSession.builder \\\n",
    "    .master(\"local[*]\") \\\n",
    "    .appName('test') \\\n",
    "    .getOrCreate()"
   ]
  },
  {
   "cell_type": "code",
   "execution_count": 8,
   "id": "c9ffe51c",
   "metadata": {},
   "outputs": [
    {
     "data": {
      "text/html": [
       "\n",
       "            <div>\n",
       "                <p><b>SparkSession - in-memory</b></p>\n",
       "                \n",
       "        <div>\n",
       "            <p><b>SparkContext</b></p>\n",
       "\n",
       "            <p><a href=\"http://192.168.18.7:4040\">Spark UI</a></p>\n",
       "\n",
       "            <dl>\n",
       "              <dt>Version</dt>\n",
       "                <dd><code>v3.1.3</code></dd>\n",
       "              <dt>Master</dt>\n",
       "                <dd><code>local[*]</code></dd>\n",
       "              <dt>AppName</dt>\n",
       "                <dd><code>test</code></dd>\n",
       "            </dl>\n",
       "        </div>\n",
       "        \n",
       "            </div>\n",
       "        "
      ],
      "text/plain": [
       "<pyspark.sql.session.SparkSession at 0x7fa2316caca0>"
      ]
     },
     "execution_count": 8,
     "metadata": {},
     "output_type": "execute_result"
    }
   ],
   "source": [
    "spark"
   ]
  },
  {
   "cell_type": "code",
   "execution_count": 9,
   "id": "d883688a",
   "metadata": {},
   "outputs": [],
   "source": [
    "reviews_dir = \"/home/vyago/Documents/steam-data-engineering/reviews/\"\n",
    "gameid_dir = \"221380\"\n",
    "file = \"416F4A347850666B6C4F6F43633975777677453D.json\""
   ]
  },
  {
   "cell_type": "markdown",
   "id": "bec24290",
   "metadata": {},
   "source": [
    "## ONE SAMPLE FILE"
   ]
  },
  {
   "cell_type": "code",
   "execution_count": null,
   "id": "edbe7bb2",
   "metadata": {},
   "outputs": [],
   "source": [
    "test = os.path.join(os.path.join(reviews_dir, gameid_dir), file)\n",
    "test"
   ]
  },
  {
   "cell_type": "code",
   "execution_count": null,
   "id": "67f7a352",
   "metadata": {},
   "outputs": [],
   "source": [
    "raw_df = spark.read.json(test)\n",
    "raw_df.printSchema()\n",
    "raw_df.show()"
   ]
  },
  {
   "cell_type": "code",
   "execution_count": null,
   "id": "c1e8bf85",
   "metadata": {},
   "outputs": [],
   "source": [
    "rows = raw_df.select(\"reviews\").take(1)\n",
    "df = spark.createDataFrame(rows[0][0])\n",
    "df_flatten = flatten_df(df)\n",
    "df_flatten.take(1)"
   ]
  },
  {
   "cell_type": "code",
   "execution_count": null,
   "id": "c2c63808",
   "metadata": {},
   "outputs": [],
   "source": [
    "df_flatten.columns"
   ]
  },
  {
   "cell_type": "markdown",
   "id": "9fd56798",
   "metadata": {},
   "source": [
    "# ALL FILES FROM FOLDER"
   ]
  },
  {
   "cell_type": "code",
   "execution_count": null,
   "id": "296f0662",
   "metadata": {},
   "outputs": [],
   "source": [
    "test_dir = os.path.join(reviews_dir, gameid_dir)\n",
    "test_dir"
   ]
  },
  {
   "cell_type": "code",
   "execution_count": null,
   "id": "c092d2e2",
   "metadata": {},
   "outputs": [],
   "source": [
    "all_dfs = spark.read.json(test_dir)\n",
    "all_dfs.printSchema()\n",
    "all_dfs.show()"
   ]
  },
  {
   "cell_type": "code",
   "execution_count": null,
   "id": "61c79846",
   "metadata": {},
   "outputs": [],
   "source": [
    "rdd = all_dfs.rdd"
   ]
  },
  {
   "cell_type": "code",
   "execution_count": null,
   "id": "c7e964bc",
   "metadata": {},
   "outputs": [],
   "source": [
    "rdd.count()"
   ]
  },
  {
   "cell_type": "code",
   "execution_count": null,
   "id": "07e24f8c",
   "metadata": {},
   "outputs": [],
   "source": [
    "def proc_json(raw_df)  :\n",
    "    rows = raw_df[\"reviews\"]\n",
    "    return rows\n",
    "\n",
    "\n",
    "rdd2 = rdd.flatMap(proc_json) \\\n",
    "          .collect()\n",
    "\n",
    "df = spark.createDataFrame(rdd2)\n",
    "df = flatten_df(df)\n",
    "df = df.withColumn('filename', input_file_name()) # dont work\n",
    "df.printSchema()"
   ]
  },
  {
   "cell_type": "code",
   "execution_count": null,
   "id": "629d194b",
   "metadata": {},
   "outputs": [],
   "source": [
    "\n",
    "df.take(1)"
   ]
  },
  {
   "cell_type": "code",
   "execution_count": null,
   "id": "ea4ff8f7",
   "metadata": {},
   "outputs": [],
   "source": [
    "df.select(\"author_steamid\").show()"
   ]
  },
  {
   "cell_type": "markdown",
   "id": "9fd56798",
   "metadata": {},
   "source": [
    "# ALL FILES FROM ALL FOLDERS"
   ]
  },
  {
   "cell_type": "markdown",
   "id": "c3d0f7ca",
   "metadata": {},
   "source": [
    "- https://stackoverflow.com/questions/32233575/read-all-files-in-a-nested-folder-in-spark"
   ]
  },
  {
   "cell_type": "code",
   "execution_count": 18,
   "id": "03dc198a",
   "metadata": {},
   "outputs": [],
   "source": [
    "reviews_lite_dir = \"/home/vyago/Documents/steam-data-engineering/reviews_lite/*/*\""
   ]
  },
  {
   "cell_type": "markdown",
   "id": "d5a6378d",
   "metadata": {},
   "source": [
    "Df schema of all files of all dirs : "
   ]
  },
  {
   "cell_type": "code",
   "execution_count": 19,
   "id": "c092d2e2",
   "metadata": {},
   "outputs": [
    {
     "name": "stdout",
     "output_type": "stream",
     "text": [
      "root\n",
      " |-- cursor: string (nullable = true)\n",
      " |-- query_summary: struct (nullable = true)\n",
      " |    |-- num_reviews: long (nullable = true)\n",
      " |    |-- review_score: long (nullable = true)\n",
      " |    |-- review_score_desc: string (nullable = true)\n",
      " |    |-- total_negative: long (nullable = true)\n",
      " |    |-- total_positive: long (nullable = true)\n",
      " |    |-- total_reviews: long (nullable = true)\n",
      " |-- reviews: array (nullable = true)\n",
      " |    |-- element: struct (containsNull = true)\n",
      " |    |    |-- author: struct (nullable = true)\n",
      " |    |    |    |-- last_played: long (nullable = true)\n",
      " |    |    |    |-- num_games_owned: long (nullable = true)\n",
      " |    |    |    |-- num_reviews: long (nullable = true)\n",
      " |    |    |    |-- playtime_at_review: long (nullable = true)\n",
      " |    |    |    |-- playtime_forever: long (nullable = true)\n",
      " |    |    |    |-- playtime_last_two_weeks: long (nullable = true)\n",
      " |    |    |    |-- steamid: string (nullable = true)\n",
      " |    |    |-- comment_count: long (nullable = true)\n",
      " |    |    |-- language: string (nullable = true)\n",
      " |    |    |-- received_for_free: boolean (nullable = true)\n",
      " |    |    |-- recommendationid: string (nullable = true)\n",
      " |    |    |-- review: string (nullable = true)\n",
      " |    |    |-- steam_purchase: boolean (nullable = true)\n",
      " |    |    |-- timestamp_created: long (nullable = true)\n",
      " |    |    |-- timestamp_updated: long (nullable = true)\n",
      " |    |    |-- voted_up: boolean (nullable = true)\n",
      " |    |    |-- votes_funny: long (nullable = true)\n",
      " |    |    |-- votes_up: long (nullable = true)\n",
      " |    |    |-- weighted_vote_score: string (nullable = true)\n",
      " |    |    |-- written_during_early_access: boolean (nullable = true)\n",
      " |-- success: long (nullable = true)\n",
      " |-- filename: string (nullable = false)\n",
      "\n",
      "+--------------------+--------------------+--------------------+-------+--------------------+\n",
      "|              cursor|       query_summary|             reviews|success|            filename|\n",
      "+--------------------+--------------------+--------------------+-------+--------------------+\n",
      "|AoJ4+Z3jku8CcNbT5QE=|{100, null, null,...|[{{1656773225, 10...|      1|file:/home/vyago/...|\n",
      "|AoJ4z8eN78YCcq++KQ==|{100, null, null,...|[{{1432432089, 35...|      1|file:/home/vyago/...|\n",
      "|AoJ4xJei68oCfemTNQ==|{100, null, null,...|[{{1450056496, 12...|      1|file:/home/vyago/...|\n",
      "|AoJwhtnvuvkCeuyt3wI=|{100, null, null,...|[{{1654185996, 33...|      1|file:/home/vyago/...|\n",
      "|AoJ4rJHWj8MCcO2uHw==|{100, null, null,...|[{{1438878234, 40...|      1|file:/home/vyago/...|\n",
      "|AoJ4vJTthuICcaOgmwE=|{100, null, null,...|[{{1530586541, 8,...|      1|file:/home/vyago/...|\n",
      "|AoJ4gsmG2tsCerDqdw==|{100, null, null,...|[{{1590094507, 21...|      1|file:/home/vyago/...|\n",
      "|AoJwsdrN3e8Cc7be7AE=|{100, null, null,...|[{{1424187970, 22...|      1|file:/home/vyago/...|\n",
      "|AoJ40/6xvNQCdc31Vg==|{100, null, null,...|[{{1440460423, 10...|      1|file:/home/vyago/...|\n",
      "|AoJwzYeOpM4CfuOVQA==|{100, null, null,...|[{{1617466653, 71...|      1|file:/home/vyago/...|\n",
      "|    AoJ4z7WCh7MCeLhF|{100, null, null,...|[{{1385003206, 32...|      1|file:/home/vyago/...|\n",
      "|AoJw+MSjk80CcpD1Ow==|{100, null, null,...|[{{1600634748, 71...|      1|file:/home/vyago/...|\n",
      "|AoJwvcLh/foCdtzl8AI=|{100, null, null,...|[{{1626097564, 31...|      1|file:/home/vyago/...|\n",
      "|AoJw+tTA/9UCfd6GXQ==|{100, null, null,...|[{{1660003420, 68...|      1|file:/home/vyago/...|\n",
      "|AoJ4tNbYydgCe+7dZg==|{100, null, null,...|[{{1484526401, 56...|      1|file:/home/vyago/...|\n",
      "|AoJw8JOh+cwCduWmOw==|{100, null, null,...|[{{1343372400, 13...|      1|file:/home/vyago/...|\n",
      "|AoJ4ofHLuNICeMiCTw==|{100, null, null,...|[{{1461632695, 45...|      1|file:/home/vyago/...|\n",
      "|AoJw5pWI/v0CetHvlgM=|{100, null, null,...|[{{1643432700, 14...|      1|file:/home/vyago/...|\n",
      "|AoJ45r/R1vICfeThjQI=|{100, null, null,...|[{{1609152760, 16...|      1|file:/home/vyago/...|\n",
      "|AoJwxs3dr+ECeNj6lwE=|{100, null, null,...|[{{1660535220, 16...|      1|file:/home/vyago/...|\n",
      "+--------------------+--------------------+--------------------+-------+--------------------+\n",
      "only showing top 20 rows\n",
      "\n"
     ]
    }
   ],
   "source": [
    "all_dfs = spark.read.json(reviews_lite_dir).withColumn(\"filename\", input_file_name())\n",
    "all_dfs.printSchema()\n",
    "all_dfs.show()"
   ]
  },
  {
   "cell_type": "code",
   "execution_count": 34,
   "id": "61c79846",
   "metadata": {},
   "outputs": [
    {
     "data": {
      "text/plain": [
       "97"
      ]
     },
     "execution_count": 34,
     "metadata": {},
     "output_type": "execute_result"
    }
   ],
   "source": [
    "rdd = all_dfs.rdd\n",
    "rdd.count()"
   ]
  },
  {
   "cell_type": "markdown",
   "id": "3d4f730b",
   "metadata": {},
   "source": [
    "Obtaining reviews :"
   ]
  },
  {
   "cell_type": "code",
   "execution_count": 25,
   "id": "07e24f8c",
   "metadata": {},
   "outputs": [
    {
     "name": "stdout",
     "output_type": "stream",
     "text": [
      "root\n",
      " |-- author: struct (nullable = true)\n",
      " |    |-- last_played: long (nullable = true)\n",
      " |    |-- num_games_owned: long (nullable = true)\n",
      " |    |-- num_reviews: long (nullable = true)\n",
      " |    |-- playtime_at_review: long (nullable = true)\n",
      " |    |-- playtime_forever: long (nullable = true)\n",
      " |    |-- playtime_last_two_weeks: long (nullable = true)\n",
      " |    |-- steamid: string (nullable = true)\n",
      " |-- comment_count: long (nullable = true)\n",
      " |-- language: string (nullable = true)\n",
      " |-- received_for_free: boolean (nullable = true)\n",
      " |-- recommendationid: string (nullable = true)\n",
      " |-- review: string (nullable = true)\n",
      " |-- steam_purchase: boolean (nullable = true)\n",
      " |-- timestamp_created: long (nullable = true)\n",
      " |-- timestamp_updated: long (nullable = true)\n",
      " |-- voted_up: boolean (nullable = true)\n",
      " |-- votes_funny: long (nullable = true)\n",
      " |-- votes_up: long (nullable = true)\n",
      " |-- weighted_vote_score: string (nullable = true)\n",
      " |-- written_during_early_access: boolean (nullable = true)\n",
      "\n"
     ]
    }
   ],
   "source": [
    "def proc_json(raw_df, field)  :\n",
    "    rows = raw_df[field]\n",
    "    return(rows)\n",
    "\n",
    "rdd_reviews = rdd.flatMap(lambda item : proc_json(item, field = \"reviews\") )\n",
    "df_reviews  = spark.createDataFrame(rdd_reviews)\n",
    "df_reviews.printSchema()"
   ]
  },
  {
   "cell_type": "markdown",
   "id": "0f870eb5",
   "metadata": {},
   "source": [
    "Getting corresponding filename from each game"
   ]
  },
  {
   "cell_type": "code",
   "execution_count": 26,
   "id": "5bcff089",
   "metadata": {},
   "outputs": [
    {
     "name": "stdout",
     "output_type": "stream",
     "text": [
      "root\n",
      " |-- id: string (nullable = true)\n",
      "\n"
     ]
    }
   ],
   "source": [
    "rdd_filenames = rdd.map(  lambda item : [ proc_json(item, field = \"reviews\"),\n",
    "                                          proc_json(item, field = \"filename\")] ) \\\n",
    "                   .flatMap(lambda item:  [item[1] for i in item[0] ]) \\\n",
    "                   .map(lambda item : Row(id  = item, ))\n",
    "\n",
    "df_filenames  = spark.createDataFrame(rdd_filenames)\n",
    "df_filenames.printSchema()"
   ]
  },
  {
   "cell_type": "markdown",
   "id": "e630fd7d",
   "metadata": {},
   "source": [
    "Checking lenght of both dfs are equal"
   ]
  },
  {
   "cell_type": "code",
   "execution_count": 27,
   "id": "4bc1d7d4",
   "metadata": {},
   "outputs": [
    {
     "data": {
      "text/plain": [
       "True"
      ]
     },
     "execution_count": 27,
     "metadata": {},
     "output_type": "execute_result"
    }
   ],
   "source": [
    "\n",
    "df_reviews.count() == df_filenames.count()"
   ]
  },
  {
   "cell_type": "code",
   "execution_count": 28,
   "id": "4b8ef1da",
   "metadata": {},
   "outputs": [
    {
     "data": {
      "text/plain": [
       "9300"
      ]
     },
     "execution_count": 28,
     "metadata": {},
     "output_type": "execute_result"
    }
   ],
   "source": [
    "df_reviews.count()"
   ]
  },
  {
   "cell_type": "markdown",
   "id": "adffaff1",
   "metadata": {},
   "source": [
    "Join dataframes"
   ]
  },
  {
   "cell_type": "code",
   "execution_count": 29,
   "id": "a5500184",
   "metadata": {},
   "outputs": [],
   "source": [
    "w = Window().orderBy(lit('A'))\n",
    "df_reviews = df_reviews.withColumn(\"row_num\", row_number().over(w))\n",
    "df_filenames = df_filenames.withColumn(\"row_num\", row_number().over(w))\n",
    "\n",
    "df_reviews = df_reviews.join(df_filenames,df_reviews.row_num ==  df_filenames.row_num,\"inner\")"
   ]
  },
  {
   "cell_type": "code",
   "execution_count": 30,
   "id": "485fd196",
   "metadata": {},
   "outputs": [
    {
     "name": "stderr",
     "output_type": "stream",
     "text": [
      "22/09/23 18:10:06 WARN WindowExec: No Partition Defined for Window operation! Moving all data to a single partition, this can cause serious performance degradation.\n",
      "22/09/23 18:10:06 WARN WindowExec: No Partition Defined for Window operation! Moving all data to a single partition, this can cause serious performance degradation.\n"
     ]
    },
    {
     "name": "stdout",
     "output_type": "stream",
     "text": [
      "+--------------------+\n",
      "|                  id|\n",
      "+--------------------+\n",
      "|file:/home/vyago/...|\n",
      "|file:/home/vyago/...|\n",
      "|file:/home/vyago/...|\n",
      "|file:/home/vyago/...|\n",
      "|file:/home/vyago/...|\n",
      "|file:/home/vyago/...|\n",
      "|file:/home/vyago/...|\n",
      "|file:/home/vyago/...|\n",
      "|file:/home/vyago/...|\n",
      "|file:/home/vyago/...|\n",
      "|file:/home/vyago/...|\n",
      "|file:/home/vyago/...|\n",
      "|file:/home/vyago/...|\n",
      "|file:/home/vyago/...|\n",
      "|file:/home/vyago/...|\n",
      "|file:/home/vyago/...|\n",
      "|file:/home/vyago/...|\n",
      "|file:/home/vyago/...|\n",
      "|file:/home/vyago/...|\n",
      "|file:/home/vyago/...|\n",
      "+--------------------+\n",
      "only showing top 20 rows\n",
      "\n"
     ]
    }
   ],
   "source": [
    "\n",
    "df_reviews.select(\"id\").show()"
   ]
  },
  {
   "cell_type": "code",
   "execution_count": 31,
   "id": "e017cae3",
   "metadata": {},
   "outputs": [
    {
     "name": "stderr",
     "output_type": "stream",
     "text": [
      "22/09/23 18:10:29 WARN WindowExec: No Partition Defined for Window operation! Moving all data to a single partition, this can cause serious performance degradation.\n",
      "22/09/23 18:10:29 WARN WindowExec: No Partition Defined for Window operation! Moving all data to a single partition, this can cause serious performance degradation.\n"
     ]
    },
    {
     "data": {
      "text/plain": [
       "9300"
      ]
     },
     "execution_count": 31,
     "metadata": {},
     "output_type": "execute_result"
    }
   ],
   "source": [
    "df_reviews.count()"
   ]
  }
 ],
 "metadata": {
  "kernelspec": {
   "display_name": "Python 3.8.10 64-bit",
   "language": "python",
   "name": "python3"
  },
  "language_info": {
   "codemirror_mode": {
    "name": "ipython",
    "version": 3
   },
   "file_extension": ".py",
   "mimetype": "text/x-python",
   "name": "python",
   "nbconvert_exporter": "python",
   "pygments_lexer": "ipython3",
   "version": "3.8.10"
  },
  "vscode": {
   "interpreter": {
    "hash": "916dbcbb3f70747c44a77c7bcd40155683ae19c65e1c03b4aa3499c5328201f1"
   }
  }
 },
 "nbformat": 4,
 "nbformat_minor": 5
}
