{
 "cells": [
  {
   "cell_type": "markdown",
   "metadata": {},
   "source": [
    "## All reviews from all games"
   ]
  },
  {
   "cell_type": "code",
   "execution_count": 1,
   "metadata": {},
   "outputs": [
    {
     "data": {
      "text/plain": [
       "'/bin/python3'"
      ]
     },
     "execution_count": 1,
     "metadata": {},
     "output_type": "execute_result"
    }
   ],
   "source": [
    "import sys\n",
    "import pyspark\n",
    "import os\n",
    "from pyspark.sql import SparkSession\n",
    "from pyspark.conf import SparkConf\n",
    "from pyspark import SparkContext\n",
    "from pyspark.sql.functions import input_file_name\n",
    "from pyspark.sql import functions as F\n",
    "from pyspark.sql import Row\n",
    "from pyspark.sql.functions import row_number,lit\n",
    "from pyspark.sql.window import Window\n",
    "\n",
    "\n",
    "sys.executable"
   ]
  },
  {
   "cell_type": "code",
   "execution_count": 2,
   "metadata": {},
   "outputs": [],
   "source": [
    "CREDENTIALS = '/home/vyago/.google/credentials/google_credentials.json'\n",
    "GCS_JAR = \"./lib/gcs-connector-hadoop3-latest.jar\"\n",
    "BQ_JAR = \"./lib/spark-3.1-bigquery-0.27.0-preview.jar\"\n",
    "\n",
    "conf = SparkConf() \\\n",
    "    .setMaster('local[*]') \\\n",
    "    .setAppName('test') \\\n",
    "    .set(\"spark.jars\", \"{GCS_JAR}, {BQ_JAR}\") \\\n",
    "    .set(\"spark.hadoop.google.cloud.auth.service.account.enable\", \"true\") \\\n",
    "    .set(\"spark.hadoop.google.cloud.auth.service.account.json.keyfile\", CREDENTIALS)"
   ]
  },
  {
   "cell_type": "code",
   "execution_count": 3,
   "metadata": {},
   "outputs": [
    {
     "name": "stderr",
     "output_type": "stream",
     "text": [
      "22/09/24 01:33:00 WARN Utils: Your hostname, vyago-desktop resolves to a loopback address: 127.0.1.1; using 192.168.18.7 instead (on interface enp4s0)\n",
      "22/09/24 01:33:00 WARN Utils: Set SPARK_LOCAL_IP if you need to bind to another address\n",
      "WARNING: An illegal reflective access operation has occurred\n",
      "WARNING: Illegal reflective access by org.apache.spark.unsafe.Platform (file:/home/vyago/spark/spark-3.1.3-bin-hadoop3.2/jars/spark-unsafe_2.12-3.1.3.jar) to constructor java.nio.DirectByteBuffer(long,int)\n",
      "WARNING: Please consider reporting this to the maintainers of org.apache.spark.unsafe.Platform\n",
      "WARNING: Use --illegal-access=warn to enable warnings of further illegal reflective access operations\n",
      "WARNING: All illegal access operations will be denied in a future release\n",
      "22/09/24 01:33:00 WARN NativeCodeLoader: Unable to load native-hadoop library for your platform... using builtin-java classes where applicable\n",
      "Using Spark's default log4j profile: org/apache/spark/log4j-defaults.properties\n",
      "Setting default log level to \"WARN\".\n",
      "To adjust logging level use sc.setLogLevel(newLevel). For SparkR, use setLogLevel(newLevel).\n",
      "22/09/24 01:33:01 WARN Utils: Service 'SparkUI' could not bind on port 4040. Attempting port 4041.\n"
     ]
    }
   ],
   "source": [
    "sc = SparkContext(conf=conf)\n",
    "\n",
    "hadoop_conf = sc._jsc.hadoopConfiguration()\n",
    "\n",
    "hadoop_conf.set(\"fs.AbstractFileSystem.gs.impl\",  \"com.google.cloud.hadoop.fs.gcs.GoogleHadoopFS\")\n",
    "hadoop_conf.set(\"fs.gs.impl\", \"com.google.cloud.hadoop.fs.gcs.GoogleHadoopFileSystem\")\n",
    "hadoop_conf.set(\"fs.gs.auth.service.account.json.keyfile\", credentials_location)\n",
    "hadoop_conf.set(\"fs.gs.auth.service.account.enable\", \"true\")"
   ]
  },
  {
   "cell_type": "code",
   "execution_count": 4,
   "metadata": {},
   "outputs": [],
   "source": [
    "spark = SparkSession.builder \\\n",
    "    .config(conf=sc.getConf()) \\\n",
    "    .getOrCreate()"
   ]
  },
  {
   "cell_type": "markdown",
   "metadata": {},
   "source": [
    "Connect to GCS"
   ]
  },
  {
   "cell_type": "code",
   "execution_count": 5,
   "metadata": {},
   "outputs": [],
   "source": [
    "if False : \n",
    "    bucket_name=\"steam-datalake-reviews\"\n",
    "    path=f\"gs://steam-datalake-reviews/raw/10/416F4A342B2B663375766F43633454673667493D.json\"\n",
    "    df=spark.read.json(path)\n",
    "    df.show()"
   ]
  },
  {
   "cell_type": "code",
   "execution_count": 6,
   "metadata": {},
   "outputs": [],
   "source": [
    "def flatten_df(nested_df):\n",
    "    flat_cols = [c[0] for c in nested_df.dtypes if c[1][:6] != 'struct']\n",
    "    nested_cols = [c[0] for c in nested_df.dtypes if c[1][:6] == 'struct']\n",
    "\n",
    "    flat_df = nested_df.select(flat_cols +\n",
    "                               [F.col(nc+'.'+c).alias(nc+'_'+c)\n",
    "                                for nc in nested_cols\n",
    "                                for c in nested_df.select(nc+'.*').columns])\n",
    "    return flat_df\n",
    "\n",
    "\n",
    "def proc_json(raw_df, field)  :\n",
    "    rows = raw_df[field]\n",
    "    return(rows)"
   ]
  },
  {
   "cell_type": "markdown",
   "metadata": {},
   "source": [
    "Dir with a sample of the games :"
   ]
  },
  {
   "cell_type": "code",
   "execution_count": 7,
   "metadata": {},
   "outputs": [],
   "source": [
    "reviews_lite_dir = \"/home/vyago/Documents/steam-data-engineering/reviews_lite/*/*\""
   ]
  },
  {
   "cell_type": "code",
   "execution_count": 8,
   "metadata": {},
   "outputs": [
    {
     "name": "stderr",
     "output_type": "stream",
     "text": [
      "                                                                                \r"
     ]
    },
    {
     "name": "stdout",
     "output_type": "stream",
     "text": [
      "root\n",
      " |-- cursor: string (nullable = true)\n",
      " |-- query_summary: struct (nullable = true)\n",
      " |    |-- num_reviews: long (nullable = true)\n",
      " |    |-- review_score: long (nullable = true)\n",
      " |    |-- review_score_desc: string (nullable = true)\n",
      " |    |-- total_negative: long (nullable = true)\n",
      " |    |-- total_positive: long (nullable = true)\n",
      " |    |-- total_reviews: long (nullable = true)\n",
      " |-- reviews: array (nullable = true)\n",
      " |    |-- element: struct (containsNull = true)\n",
      " |    |    |-- author: struct (nullable = true)\n",
      " |    |    |    |-- last_played: long (nullable = true)\n",
      " |    |    |    |-- num_games_owned: long (nullable = true)\n",
      " |    |    |    |-- num_reviews: long (nullable = true)\n",
      " |    |    |    |-- playtime_at_review: long (nullable = true)\n",
      " |    |    |    |-- playtime_forever: long (nullable = true)\n",
      " |    |    |    |-- playtime_last_two_weeks: long (nullable = true)\n",
      " |    |    |    |-- steamid: string (nullable = true)\n",
      " |    |    |-- comment_count: long (nullable = true)\n",
      " |    |    |-- language: string (nullable = true)\n",
      " |    |    |-- received_for_free: boolean (nullable = true)\n",
      " |    |    |-- recommendationid: string (nullable = true)\n",
      " |    |    |-- review: string (nullable = true)\n",
      " |    |    |-- steam_purchase: boolean (nullable = true)\n",
      " |    |    |-- timestamp_created: long (nullable = true)\n",
      " |    |    |-- timestamp_updated: long (nullable = true)\n",
      " |    |    |-- voted_up: boolean (nullable = true)\n",
      " |    |    |-- votes_funny: long (nullable = true)\n",
      " |    |    |-- votes_up: long (nullable = true)\n",
      " |    |    |-- weighted_vote_score: string (nullable = true)\n",
      " |    |    |-- written_during_early_access: boolean (nullable = true)\n",
      " |-- success: long (nullable = true)\n",
      " |-- filename: string (nullable = false)\n",
      "\n",
      "+--------------------+--------------------+--------------------+-------+--------------------+\n",
      "|              cursor|       query_summary|             reviews|success|            filename|\n",
      "+--------------------+--------------------+--------------------+-------+--------------------+\n",
      "|AoJ4+Z3jku8CcNbT5QE=|{100, null, null,...|[{{1656773225, 10...|      1|file:/home/vyago/...|\n",
      "|AoJ4z8eN78YCcq++KQ==|{100, null, null,...|[{{1432432089, 35...|      1|file:/home/vyago/...|\n",
      "|AoJ4xJei68oCfemTNQ==|{100, null, null,...|[{{1450056496, 12...|      1|file:/home/vyago/...|\n",
      "|AoJwhtnvuvkCeuyt3wI=|{100, null, null,...|[{{1654185996, 33...|      1|file:/home/vyago/...|\n",
      "|AoJ4rJHWj8MCcO2uHw==|{100, null, null,...|[{{1438878234, 40...|      1|file:/home/vyago/...|\n",
      "|AoJ4vJTthuICcaOgmwE=|{100, null, null,...|[{{1530586541, 8,...|      1|file:/home/vyago/...|\n",
      "|AoJ4gsmG2tsCerDqdw==|{100, null, null,...|[{{1590094507, 21...|      1|file:/home/vyago/...|\n",
      "|AoJwsdrN3e8Cc7be7AE=|{100, null, null,...|[{{1424187970, 22...|      1|file:/home/vyago/...|\n",
      "|AoJ40/6xvNQCdc31Vg==|{100, null, null,...|[{{1440460423, 10...|      1|file:/home/vyago/...|\n",
      "|AoJwzYeOpM4CfuOVQA==|{100, null, null,...|[{{1617466653, 71...|      1|file:/home/vyago/...|\n",
      "|    AoJ4z7WCh7MCeLhF|{100, null, null,...|[{{1385003206, 32...|      1|file:/home/vyago/...|\n",
      "|AoJw+MSjk80CcpD1Ow==|{100, null, null,...|[{{1600634748, 71...|      1|file:/home/vyago/...|\n",
      "|AoJwvcLh/foCdtzl8AI=|{100, null, null,...|[{{1626097564, 31...|      1|file:/home/vyago/...|\n",
      "|AoJw+tTA/9UCfd6GXQ==|{100, null, null,...|[{{1660003420, 68...|      1|file:/home/vyago/...|\n",
      "|AoJ4tNbYydgCe+7dZg==|{100, null, null,...|[{{1484526401, 56...|      1|file:/home/vyago/...|\n",
      "|AoJw8JOh+cwCduWmOw==|{100, null, null,...|[{{1343372400, 13...|      1|file:/home/vyago/...|\n",
      "|AoJ4ofHLuNICeMiCTw==|{100, null, null,...|[{{1461632695, 45...|      1|file:/home/vyago/...|\n",
      "|AoJw5pWI/v0CetHvlgM=|{100, null, null,...|[{{1643432700, 14...|      1|file:/home/vyago/...|\n",
      "|AoJ45r/R1vICfeThjQI=|{100, null, null,...|[{{1609152760, 16...|      1|file:/home/vyago/...|\n",
      "|AoJwxs3dr+ECeNj6lwE=|{100, null, null,...|[{{1660535220, 16...|      1|file:/home/vyago/...|\n",
      "+--------------------+--------------------+--------------------+-------+--------------------+\n",
      "only showing top 20 rows\n",
      "\n"
     ]
    }
   ],
   "source": [
    "all_games = spark.read.json(reviews_lite_dir).withColumn(\"filename\", input_file_name())\n",
    "all_games.printSchema()\n",
    "all_games.show()"
   ]
  },
  {
   "cell_type": "code",
   "execution_count": 9,
   "metadata": {},
   "outputs": [
    {
     "name": "stderr",
     "output_type": "stream",
     "text": [
      "[Stage 5:===================================================>     (10 + 1) / 11]\r"
     ]
    },
    {
     "name": "stdout",
     "output_type": "stream",
     "text": [
      "Number of files processed: 97\n"
     ]
    },
    {
     "name": "stderr",
     "output_type": "stream",
     "text": [
      "                                                                                \r"
     ]
    }
   ],
   "source": [
    "rdd = all_games.rdd\n",
    "print(f\"Number of files processed: {rdd.count()}\")"
   ]
  },
  {
   "cell_type": "markdown",
   "metadata": {},
   "source": [
    "### Reviews "
   ]
  },
  {
   "cell_type": "code",
   "execution_count": 10,
   "metadata": {},
   "outputs": [
    {
     "name": "stdout",
     "output_type": "stream",
     "text": [
      "root\n",
      " |-- author: struct (nullable = true)\n",
      " |    |-- last_played: long (nullable = true)\n",
      " |    |-- num_games_owned: long (nullable = true)\n",
      " |    |-- num_reviews: long (nullable = true)\n",
      " |    |-- playtime_at_review: long (nullable = true)\n",
      " |    |-- playtime_forever: long (nullable = true)\n",
      " |    |-- playtime_last_two_weeks: long (nullable = true)\n",
      " |    |-- steamid: string (nullable = true)\n",
      " |-- comment_count: long (nullable = true)\n",
      " |-- language: string (nullable = true)\n",
      " |-- received_for_free: boolean (nullable = true)\n",
      " |-- recommendationid: string (nullable = true)\n",
      " |-- review: string (nullable = true)\n",
      " |-- steam_purchase: boolean (nullable = true)\n",
      " |-- timestamp_created: long (nullable = true)\n",
      " |-- timestamp_updated: long (nullable = true)\n",
      " |-- voted_up: boolean (nullable = true)\n",
      " |-- votes_funny: long (nullable = true)\n",
      " |-- votes_up: long (nullable = true)\n",
      " |-- weighted_vote_score: string (nullable = true)\n",
      " |-- written_during_early_access: boolean (nullable = true)\n",
      "\n"
     ]
    }
   ],
   "source": [
    "df_reviews = rdd.flatMap(lambda item : proc_json(item, field = \"reviews\")).toDF()\n",
    "df_reviews.printSchema()"
   ]
  },
  {
   "cell_type": "markdown",
   "metadata": {},
   "source": [
    "### Game ID "
   ]
  },
  {
   "cell_type": "code",
   "execution_count": 11,
   "metadata": {},
   "outputs": [
    {
     "name": "stdout",
     "output_type": "stream",
     "text": [
      "root\n",
      " |-- gameid: string (nullable = true)\n",
      "\n"
     ]
    }
   ],
   "source": [
    "df_gameid = rdd.map(  lambda item : [ proc_json(item, field = \"reviews\"),\n",
    "                                          proc_json(item, field = \"filename\")] ) \\\n",
    "                   .flatMap(lambda item:  [item[1] for i in item[0] ]) \\\n",
    "                   .map(lambda item : Row(gameid  = item, )).toDF()\n",
    "                   \n",
    "# TODO EXTRACT GAME ID FROM DIR\n",
    "\n",
    "\n",
    "df_gameid.printSchema()"
   ]
  },
  {
   "cell_type": "markdown",
   "metadata": {},
   "source": [
    "### Join dataframes"
   ]
  },
  {
   "cell_type": "code",
   "execution_count": 12,
   "metadata": {},
   "outputs": [],
   "source": [
    "w = Window().orderBy(lit('A'))\n",
    "df_reviews = df_reviews.withColumn(\"row_num\", row_number().over(w))\n",
    "df_gameid = df_gameid.withColumn(\"row_num\", row_number().over(w))\n",
    "\n",
    "df_reviews = df_reviews.join(df_gameid, on = [\"row_num\"], how = \"inner\")"
   ]
  },
  {
   "cell_type": "code",
   "execution_count": 13,
   "metadata": {},
   "outputs": [
    {
     "name": "stdout",
     "output_type": "stream",
     "text": [
      "root\n",
      " |-- row_num: integer (nullable = true)\n",
      " |-- author: struct (nullable = true)\n",
      " |    |-- last_played: long (nullable = true)\n",
      " |    |-- num_games_owned: long (nullable = true)\n",
      " |    |-- num_reviews: long (nullable = true)\n",
      " |    |-- playtime_at_review: long (nullable = true)\n",
      " |    |-- playtime_forever: long (nullable = true)\n",
      " |    |-- playtime_last_two_weeks: long (nullable = true)\n",
      " |    |-- steamid: string (nullable = true)\n",
      " |-- comment_count: long (nullable = true)\n",
      " |-- language: string (nullable = true)\n",
      " |-- received_for_free: boolean (nullable = true)\n",
      " |-- recommendationid: string (nullable = true)\n",
      " |-- review: string (nullable = true)\n",
      " |-- steam_purchase: boolean (nullable = true)\n",
      " |-- timestamp_created: long (nullable = true)\n",
      " |-- timestamp_updated: long (nullable = true)\n",
      " |-- voted_up: boolean (nullable = true)\n",
      " |-- votes_funny: long (nullable = true)\n",
      " |-- votes_up: long (nullable = true)\n",
      " |-- weighted_vote_score: string (nullable = true)\n",
      " |-- written_during_early_access: boolean (nullable = true)\n",
      " |-- gameid: string (nullable = true)\n",
      "\n"
     ]
    }
   ],
   "source": [
    "df_reviews.printSchema()"
   ]
  },
  {
   "cell_type": "code",
   "execution_count": 14,
   "metadata": {},
   "outputs": [
    {
     "name": "stderr",
     "output_type": "stream",
     "text": [
      "22/09/24 01:33:10 WARN WindowExec: No Partition Defined for Window operation! Moving all data to a single partition, this can cause serious performance degradation.\n",
      "22/09/24 01:33:10 WARN WindowExec: No Partition Defined for Window operation! Moving all data to a single partition, this can cause serious performance degradation.\n"
     ]
    },
    {
     "name": "stdout",
     "output_type": "stream",
     "text": [
      "+--------------------+\n",
      "|              gameid|\n",
      "+--------------------+\n",
      "|file:/home/vyago/...|\n",
      "|file:/home/vyago/...|\n",
      "|file:/home/vyago/...|\n",
      "|file:/home/vyago/...|\n",
      "|file:/home/vyago/...|\n",
      "|file:/home/vyago/...|\n",
      "|file:/home/vyago/...|\n",
      "|file:/home/vyago/...|\n",
      "|file:/home/vyago/...|\n",
      "|file:/home/vyago/...|\n",
      "|file:/home/vyago/...|\n",
      "|file:/home/vyago/...|\n",
      "|file:/home/vyago/...|\n",
      "|file:/home/vyago/...|\n",
      "|file:/home/vyago/...|\n",
      "|file:/home/vyago/...|\n",
      "|file:/home/vyago/...|\n",
      "|file:/home/vyago/...|\n",
      "|file:/home/vyago/...|\n",
      "|file:/home/vyago/...|\n",
      "+--------------------+\n",
      "only showing top 20 rows\n",
      "\n"
     ]
    }
   ],
   "source": [
    "df_reviews.select(\"gameid\").show()"
   ]
  },
  {
   "cell_type": "code",
   "execution_count": 15,
   "metadata": {},
   "outputs": [
    {
     "name": "stderr",
     "output_type": "stream",
     "text": [
      "22/09/24 01:33:12 WARN WindowExec: No Partition Defined for Window operation! Moving all data to a single partition, this can cause serious performance degradation.\n",
      "22/09/24 01:33:12 WARN WindowExec: No Partition Defined for Window operation! Moving all data to a single partition, this can cause serious performance degradation.\n"
     ]
    },
    {
     "data": {
      "text/plain": [
       "9300"
      ]
     },
     "execution_count": 15,
     "metadata": {},
     "output_type": "execute_result"
    }
   ],
   "source": [
    "df_reviews.count()"
   ]
  },
  {
   "cell_type": "code",
   "execution_count": 16,
   "metadata": {},
   "outputs": [
    {
     "name": "stderr",
     "output_type": "stream",
     "text": [
      "22/09/24 01:33:12 WARN WindowExec: No Partition Defined for Window operation! Moving all data to a single partition, this can cause serious performance degradation.\n",
      "22/09/24 01:33:12 WARN WindowExec: No Partition Defined for Window operation! Moving all data to a single partition, this can cause serious performance degradation.\n"
     ]
    },
    {
     "data": {
      "text/plain": [
       "[Row(row_num=1, author=Row(last_played=1656773225, num_games_owned=102, num_reviews=53, playtime_at_review=65, playtime_forever=85, playtime_last_two_weeks=0, steamid='76561198141524029'), comment_count=0, language='koreana', received_for_free=False, recommendationid='64270873', review='[ 희망 가격 ]\\n□ 정가\\n□ 20% 할인\\n□ 50% 할인\\n■ 75% 이상\\n\\n[ 그래픽 ]\\n★★★☆☆\\n\\n그래픽은 당시 기준으로 좋은 편이나, 팀 포트리스2에 비해서 아트 디자인의 특색이 없는 것같아 별점 3점입니다.\\n\\n[ 사운드 ]\\n★★★★☆\\n\\n사운드 디자인 또한 팀포트리스2의 상징적일 정도의 사운드 디자인에 조금 비교가 되지 않나 생각되지만 나름의 매력이 있습니다.\\n\\n[ 난이도 ]\\n□ 쉬움\\n□ 중간\\n■ 어려움\\n\\n한국 서버가 존재하지 않아 핑이 매우 높기 때문에 정상적인 플레이가 불가능합니다. 따라서 적을 처치하는 경우는 드물고 죽는 경우가 매우 많습니다.\\n\\n[ 버그 ]\\n■ 없음\\n□ 낮은 빈도\\n□ 높은 빈도\\n\\n[ 게임성 ]\\n★★★★☆\\n\\n높은 핑으로 인해 정상적인 플레이는 불가해서 정확한 판단을 할 수는 없었지만 그래도 낮은 핑의 서버가 있다면 매우 재밌게 즐길 수있을 것같습니다.\\n\\n----\\n\\n골드 소스 시절 밸브 온라인 게임 중에서는 의외로 사람이 많은 편에 속하네요. 시간대에 따라 달라지겠지만 접속해보면 보통 최대 32명을 수용할 수있는 서버 2~3곳 정도는 꽉차있습니다.', steam_purchase=True, timestamp_created=1582940659, timestamp_updated=1583905902, voted_up=True, votes_funny=0, votes_up=5, weighted_vote_score='0.578974246978759766', written_during_early_access=False, gameid='file:/home/vyago/Documents/steam-data-engineering/reviews_lite/20/416F4A342B5A336A6B753843634E62543551453D.json')]"
      ]
     },
     "execution_count": 16,
     "metadata": {},
     "output_type": "execute_result"
    }
   ],
   "source": [
    "df_reviews.take(1)"
   ]
  },
  {
   "cell_type": "code",
   "execution_count": 17,
   "metadata": {},
   "outputs": [
    {
     "name": "stdout",
     "output_type": "stream",
     "text": [
      "root\n",
      " |-- row_num: integer (nullable = true)\n",
      " |-- comment_count: long (nullable = true)\n",
      " |-- language: string (nullable = true)\n",
      " |-- received_for_free: boolean (nullable = true)\n",
      " |-- recommendationid: string (nullable = true)\n",
      " |-- review: string (nullable = true)\n",
      " |-- steam_purchase: boolean (nullable = true)\n",
      " |-- timestamp_created: long (nullable = true)\n",
      " |-- timestamp_updated: long (nullable = true)\n",
      " |-- voted_up: boolean (nullable = true)\n",
      " |-- votes_funny: long (nullable = true)\n",
      " |-- votes_up: long (nullable = true)\n",
      " |-- weighted_vote_score: string (nullable = true)\n",
      " |-- written_during_early_access: boolean (nullable = true)\n",
      " |-- gameid: string (nullable = true)\n",
      " |-- author_last_played: long (nullable = true)\n",
      " |-- author_num_games_owned: long (nullable = true)\n",
      " |-- author_num_reviews: long (nullable = true)\n",
      " |-- author_playtime_at_review: long (nullable = true)\n",
      " |-- author_playtime_forever: long (nullable = true)\n",
      " |-- author_playtime_last_two_weeks: long (nullable = true)\n",
      " |-- author_steamid: string (nullable = true)\n",
      "\n"
     ]
    }
   ],
   "source": [
    "df_reviews_flat = flatten_df(df_reviews) \n",
    "df_reviews_flat.printSchema()"
   ]
  },
  {
   "cell_type": "markdown",
   "metadata": {},
   "source": [
    "### Write into BigQuery"
   ]
  },
  {
   "cell_type": "markdown",
   "metadata": {},
   "source": [
    "- https://github.com/GoogleCloudDataproc/spark-bigquery-connector"
   ]
  },
  {
   "cell_type": "code",
   "execution_count": 18,
   "metadata": {},
   "outputs": [
    {
     "name": "stderr",
     "output_type": "stream",
     "text": [
      "22/09/24 01:33:13 WARN DefaultCredentialsProvider: Your application has authenticated using end user credentials from Google Cloud SDK. We recommend that most server applications use service accounts instead. If your application continues to use end user credentials from Cloud SDK, you might receive a \"quota exceeded\" or \"API not enabled\" error. For more information about service accounts, see https://cloud.google.com/docs/authentication/.\n",
      "22/09/24 01:33:16 WARN WindowExec: No Partition Defined for Window operation! Moving all data to a single partition, this can cause serious performance degradation.\n",
      "22/09/24 01:33:16 WARN WindowExec: No Partition Defined for Window operation! Moving all data to a single partition, this can cause serious performance degradation.\n",
      "                                                                                \r"
     ]
    }
   ],
   "source": [
    "# Saving the data to BigQuery\n",
    "df_reviews_flat.write \\\n",
    "  .format('bigquery') \\\n",
    "  .option('table', 'steam-data-engineering-gcp.steam_raw.reviews') \\\n",
    "  .mode(\"append\") \\\n",
    "  .option(\"temporaryGcsBucket\",\"steam-datalake-reviews\") \\\n",
    "  .save()"
   ]
  }
 ],
 "metadata": {
  "kernelspec": {
   "display_name": "Python 3.8.10 64-bit",
   "language": "python",
   "name": "python3"
  },
  "language_info": {
   "codemirror_mode": {
    "name": "ipython",
    "version": 3
   },
   "file_extension": ".py",
   "mimetype": "text/x-python",
   "name": "python",
   "nbconvert_exporter": "python",
   "pygments_lexer": "ipython3",
   "version": "3.8.10"
  },
  "orig_nbformat": 4,
  "vscode": {
   "interpreter": {
    "hash": "916dbcbb3f70747c44a77c7bcd40155683ae19c65e1c03b4aa3499c5328201f1"
   }
  }
 },
 "nbformat": 4,
 "nbformat_minor": 2
}
